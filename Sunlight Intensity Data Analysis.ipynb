{
 "cells": [
  {
   "cell_type": "code",
   "execution_count": 1,
   "metadata": {},
   "outputs": [],
   "source": [
    "import pandas as pd\n",
    "import numpy as np\n",
    "import matplotlib.pyplot as plt"
   ]
  },
  {
   "cell_type": "code",
   "execution_count": 3,
   "metadata": {},
   "outputs": [],
   "source": [
    "# reading the data from file \n",
    "dataframe = pd.read_csv(\"dataset.csv\")"
   ]
  },
  {
   "cell_type": "code",
   "execution_count": 4,
   "metadata": {
    "scrolled": true
   },
   "outputs": [
    {
     "data": {
      "text/html": [
       "<div>\n",
       "<style scoped>\n",
       "    .dataframe tbody tr th:only-of-type {\n",
       "        vertical-align: middle;\n",
       "    }\n",
       "\n",
       "    .dataframe tbody tr th {\n",
       "        vertical-align: top;\n",
       "    }\n",
       "\n",
       "    .dataframe thead th {\n",
       "        text-align: right;\n",
       "    }\n",
       "</style>\n",
       "<table border=\"1\" class=\"dataframe\">\n",
       "  <thead>\n",
       "    <tr style=\"text-align: right;\">\n",
       "      <th></th>\n",
       "      <th>time_stamp</th>\n",
       "      <th>d_id</th>\n",
       "      <th>line_graph</th>\n",
       "    </tr>\n",
       "  </thead>\n",
       "  <tbody>\n",
       "    <tr>\n",
       "      <th>0</th>\n",
       "      <td>2021-04-03 17:32:36</td>\n",
       "      <td>14855495</td>\n",
       "      <td>1024</td>\n",
       "    </tr>\n",
       "    <tr>\n",
       "      <th>1</th>\n",
       "      <td>2021-04-03 17:36:11</td>\n",
       "      <td>14855495</td>\n",
       "      <td>1024</td>\n",
       "    </tr>\n",
       "    <tr>\n",
       "      <th>2</th>\n",
       "      <td>2021-04-03 17:37:42</td>\n",
       "      <td>14855495</td>\n",
       "      <td>1024</td>\n",
       "    </tr>\n",
       "    <tr>\n",
       "      <th>3</th>\n",
       "      <td>2021-04-03 17:41:39</td>\n",
       "      <td>14855495</td>\n",
       "      <td>1024</td>\n",
       "    </tr>\n",
       "    <tr>\n",
       "      <th>4</th>\n",
       "      <td>2021-04-03 17:46:39</td>\n",
       "      <td>14855495</td>\n",
       "      <td>12</td>\n",
       "    </tr>\n",
       "  </tbody>\n",
       "</table>\n",
       "</div>"
      ],
      "text/plain": [
       "            time_stamp      d_id  line_graph\n",
       "0  2021-04-03 17:32:36  14855495        1024\n",
       "1  2021-04-03 17:36:11  14855495        1024\n",
       "2  2021-04-03 17:37:42  14855495        1024\n",
       "3  2021-04-03 17:41:39  14855495        1024\n",
       "4  2021-04-03 17:46:39  14855495          12"
      ]
     },
     "execution_count": 4,
     "metadata": {},
     "output_type": "execute_result"
    }
   ],
   "source": [
    "# first 5 columns are printed using data.head()\n",
    "dataframe.head()"
   ]
  },
  {
   "cell_type": "code",
   "execution_count": 5,
   "metadata": {},
   "outputs": [
    {
     "name": "stdout",
     "output_type": "stream",
     "text": [
      "input_values are --> \n",
      " \n",
      " [32, 36, 37, 41, 46, 51, 53, 55, 57, 58, 0, 1, 1, 1, 2, 2, 2, 3, 8, 9, 12, 13, 15, 15, 16, 17, 17, 17, 19, 19, 20, 21, 21, 21, 21, 21, 21, 21, 26, 27, 27, 27, 29, 34, 34, 34, 34, 39, 44, 49, 49, 49, 54, 59, 0, 5, 10, 11, 12, 12, 12, 13, 15, 15, 17]\n",
      "\n",
      "output_values are --> \n",
      " \n",
      " [1024 1024 1024 1024   12 1024 1024    9 1024    9 1024 1024 1024  745\n",
      "  388 1024  189  201   89  507 1024   65 1024   84  367  225 1024  205\n",
      "  115 1024   70  121  118  109  112  109  110  535  569  602 1024   93\n",
      "  218 1024 1024  108  461  505   50 1024  621  209  998  175  641  673\n",
      " 1024 1024   77  662  681   75  652  110 1024]\n",
      "\n",
      "total no of input values are- 65\n",
      "total no of output values are- 65\n",
      "\n",
      "mean of input values :- 23.984615384615385\n",
      "mean of output values  :- 541.5692307692308\n"
     ]
    }
   ],
   "source": [
    "# now, we are splitting the dataset to get X (input_values) & Y (output_values)\n",
    "\n",
    "X = []\n",
    "XX = dataframe['time_stamp'].values\n",
    "for i in XX:\n",
    "    a=i\n",
    "    X.append(int(a[-5:-3]))\n",
    "  \n",
    "print('input_values are --> \\n \\n', X)\n",
    "print()\n",
    "\n",
    "Y = dataframe['line_graph'].values\n",
    "print('output_values are --> \\n \\n', Y)\n",
    "print()\n",
    "\n",
    "n1 = len(X)\n",
    "n2 = len(Y)\n",
    "print(\"total no of input values are-\", n1)\n",
    "print(\"total no of output values are-\", n2)\n",
    "print()\n",
    "\n",
    "\n",
    "# now, mean values are calculated-\n",
    "mean_x = np.mean(X)\n",
    "mean_y = np.mean(Y)\n",
    "\n",
    "print('mean of input values :-', mean_x)\n",
    "print('mean of output values  :-', mean_y)\n"
   ]
  },
  {
   "cell_type": "code",
   "execution_count": 6,
   "metadata": {},
   "outputs": [
    {
     "data": {
      "image/png": "[encoded data removed]",
      "text/plain": [
       "<Figure size 432x288 with 1 Axes>"
      ]
     },
     "metadata": {
      "needs_background": "light"
     },
     "output_type": "display_data"
    },
    {
     "data": {
      "text/plain": [
       "<Figure size 1080x1080 with 0 Axes>"
      ]
     },
     "metadata": {},
     "output_type": "display_data"
    }
   ],
   "source": [
    "plt.bar(X, Y)\n",
    "\n",
    "plt.xlabel('<----time_stamp---->', fontsize=14, color=\"m\")\n",
    "plt.ylabel('<----sunlight intensity---->', fontsize=14, color=\"g\")                 \n",
    "plt.title(\"Bar Chart\", color=\"r\", fontsize=14)\n",
    "\n",
    "plt.figure(figsize=(15, 15))\n",
    "plt.show()"
   ]
  },
  {
   "cell_type": "code",
   "execution_count": 7,
   "metadata": {},
   "outputs": [
    {
     "data": {
      "image/png": "[encoded data removed]",
      "text/plain": [
       "<Figure size 432x288 with 1 Axes>"
      ]
     },
     "metadata": {
      "needs_background": "light"
     },
     "output_type": "display_data"
    },
    {
     "data": {
      "text/plain": [
       "<Figure size 1080x1080 with 0 Axes>"
      ]
     },
     "metadata": {},
     "output_type": "display_data"
    }
   ],
   "source": [
    "plt.hist(Y)\n",
    "\n",
    "plt.xlabel('<----sunlight intensity---->', fontsize=14, color=\"g\")                 \n",
    "plt.title(\"Histogram Plot\", color=\"r\", fontsize=14)\n",
    "\n",
    "plt.figure(figsize=(15, 15))\n",
    "plt.show()"
   ]
  },
  {
   "cell_type": "code",
   "execution_count": 8,
   "metadata": {},
   "outputs": [
    {
     "data": {
      "image/png": "[encoded data removed]",
      "text/plain": [
       "<Figure size 432x288 with 1 Axes>"
      ]
     },
     "metadata": {
      "needs_background": "light"
     },
     "output_type": "display_data"
    },
    {
     "data": {
      "text/plain": [
       "<Figure size 1080x1080 with 0 Axes>"
      ]
     },
     "metadata": {},
     "output_type": "display_data"
    }
   ],
   "source": [
    "plt.scatter(X, Y, color=\"m\")\n",
    "\n",
    "plt.xlabel('<----time_stamp---->', fontsize=14, color=\"g\")\n",
    "plt.ylabel('<----sunlight intensity---->', fontsize=14, color=\"r\")               \n",
    "plt.title(\"Scatter Plot\", color=\"b\", fontsize=14)\n",
    "\n",
    "plt.figure(figsize=(15, 15))\n",
    "plt.show()"
   ]
  },
  {
   "cell_type": "code",
   "execution_count": 9,
   "metadata": {},
   "outputs": [
    {
     "name": "stdout",
     "output_type": "stream",
     "text": [
      "slope is:- -0.13230847280544944\n",
      "intercept is -  544.7425986015953\n"
     ]
    }
   ],
   "source": [
    "# now, we calculate the slope & intercept of the line-\n",
    "num = 0\n",
    "den = 0\n",
    "\n",
    "for i in range(n1):\n",
    "    num += (X[i] - mean_x) * (Y[i] - mean_y)\n",
    "    den += (X[i] - mean_x) ** 2\n",
    "    \n",
    "    \n",
    "slope = num / den\n",
    "intercept = mean_y - ( slope * mean_x )\n",
    "\n",
    "# printing the slope and intercept-\n",
    "print('slope is:-', slope)\n",
    "print('intercept is - ', intercept)\n"
   ]
  },
  {
   "cell_type": "code",
   "execution_count": 10,
   "metadata": {},
   "outputs": [
    {
     "name": "stdout",
     "output_type": "stream",
     "text": [
      "predicted value for x=2812.36 is :- 542.3160612103434\n",
      "predicted value for x=3497.79 is :- 539.2134275230555\n"
     ]
    },
    {
     "data": {
      "image/png": "[encoded data removed]",
      "text/plain": [
       "<Figure size 432x288 with 1 Axes>"
      ]
     },
     "metadata": {
      "needs_background": "light"
     },
     "output_type": "display_data"
    }
   ],
   "source": [
    "\n",
    "# the values which are splitted into X & Y are :-\n",
    "plt.scatter(X, Y, color=\"b\", marker=\"o\", s=30, label=\"Scatter Points\")\n",
    "# predicted vector (y_pred) is :-\n",
    "y_pred = int(slope+2) * X + intercept\n",
    "\n",
    "# now, we plot the Linear Regression line :-\n",
    "plt.plot(X, y_pred, color=\"r\", linewidth=2.0, linestyle='-.', label=\"Regression Line\")\n",
    "\n",
    "# putting the labels :-\n",
    "plt.xlabel('<----time_stamp---->', fontsize=14, color=\"m\")\n",
    "plt.ylabel('<----sunlight intensity---->', fontsize=14, color=\"g\")                 \n",
    "plt.title(\"Linear Regression\", color=\"r\", fontsize=14)\n",
    "\n",
    "# now, some values are taken as \"testing data\" so that model can predict their outputs :-\n",
    "           \n",
    "y_pred1 = slope * 18.34 + intercept\n",
    "print('predicted value for x=2812.36 is :-', y_pred1)\n",
    "plt.scatter(18.34, y_pred1, color=\"k\", marker=\"o\", s=120, label=\"Predicted outputs\")\n",
    "            \n",
    "y_pred1 = slope * 41.79  + intercept\n",
    "print('predicted value for x=3497.79 is :-', y_pred1)\n",
    "plt.scatter(41.79, y_pred1, color=\"k\", marker=\"o\", s=120)\n",
    "\n",
    "plt.legend(loc=\"upper right\")\n",
    "plt.show()                \n"
   ]
  },
  {
   "cell_type": "code",
   "execution_count": null,
   "metadata": {},
   "outputs": [],
   "source": []
  }
 ],
 "metadata": {
  "kernelspec": {
   "display_name": "Python 3",
   "language": "python",
   "name": "python3"
  },
  "language_info": {
   "codemirror_mode": {
    "name": "ipython",
    "version": 3
   },
   "file_extension": ".py",
   "mimetype": "text/x-python",
   "name": "python",
   "nbconvert_exporter": "python",
   "pygments_lexer": "ipython3",
   "version": "3.7.6"
  }
 },
 "nbformat": 4,
 "nbformat_minor": 4
}
